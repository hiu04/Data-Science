{
  "nbformat": 4,
  "nbformat_minor": 0,
  "metadata": {
    "colab": {
      "provenance": [],
      "authorship_tag": "ABX9TyOHt2XM1tXHhF/aULwqTXcC",
      "include_colab_link": true
    },
    "kernelspec": {
      "name": "python3",
      "display_name": "Python 3"
    },
    "language_info": {
      "name": "python"
    }
  },
  "cells": [
    {
      "cell_type": "markdown",
      "metadata": {
        "id": "view-in-github",
        "colab_type": "text"
      },
      "source": [
        "<a href=\"https://colab.research.google.com/github/hiu04/Data-Science/blob/main/MMAI5200_midterm.ipynb\" target=\"_parent\"><img src=\"https://colab.research.google.com/assets/colab-badge.svg\" alt=\"Open In Colab\"/></a>"
      ]
    },
    {
      "cell_type": "markdown",
      "source": [
        "## Question 1"
      ],
      "metadata": {
        "id": "RXDXNNmQysJn"
      }
    },
    {
      "cell_type": "code",
      "source": [
        "import numpy as np"
      ],
      "metadata": {
        "id": "AtbBEZEPFkAq"
      },
      "execution_count": null,
      "outputs": []
    },
    {
      "cell_type": "code",
      "source": [
        "def simplex(c1, c2, a11, a12, a21, a22, b1, b2):\n",
        "    # Construct the objective function coefficients\n",
        "    c = np.array([-c1, -c2])  # Negative values to obtain maximization\n",
        "\n",
        "    # Construct the constraint matrix A\n",
        "    A = np.array([[a11, a12],\n",
        "                  [a21, a22]])\n",
        "\n",
        "    # Construct the right-hand side of the constraints\n",
        "    b = np.array([b1, b2])\n",
        "\n",
        "    # Initialize the sizes\n",
        "    basicSize = A.shape[0] # Size of variables currently using\n",
        "    nonbasicSize = A.shape[1] - basicSize # Size of variables currently not using\n",
        "\n",
        "    # Initialize the index tracker for coefficients (array c)\n",
        "    cindx = [i for i in range(len(c))]\n",
        "\n",
        "    # Initialize basic and nonbasic variable coefficients\n",
        "    cbT = np.array(c[nonbasicSize:]) # basic\n",
        "    cnT = np.array(c[:nonbasicSize]) # nonbasic\n",
        "\n",
        "    # Iteration of Simplex Algorithm till optimization\n",
        "    while True:\n",
        "        cbIndx = cindx[nonbasicSize:]\n",
        "        cnIndx = cindx[:nonbasicSize]\n",
        "\n",
        "        B = A[:, cbIndx]\n",
        "        Binv = np.linalg.inv(B)\n",
        "        N = A[:, cnIndx]\n",
        "\n",
        "        bHat = Binv @ b\n",
        "        yT = cbT @ Binv\n",
        "        cnHat = cnT - (yT @ N)\n",
        "\n",
        "        if all(i >= 0 for i in cnHat):\n",
        "            # Extract the solution for x1 and x2\n",
        "            x1, x2 = 0, 0\n",
        "            for i, index in enumerate(cbIndx):\n",
        "                if index == 0:\n",
        "                    x1 = bHat[i]\n",
        "                elif index == 1:\n",
        "                    x2 = bHat[i]\n",
        "            z = c1 * x1 + c2 * x2\n",
        "            return x1, x2, z\n",
        "\n",
        "        cnMinIndx = np.argmin(cnHat)\n",
        "        indx = cindx[cnMinIndx]\n",
        "        Ahat = Binv @ A[:, indx]\n",
        "\n",
        "        ratios = []\n",
        "        for i in range(len(bHat)):\n",
        "            Aval = Ahat[i]\n",
        "            Bval = bHat[i]\n",
        "            if Aval <= 0:\n",
        "                ratios.append(float('inf'))\n",
        "            else:\n",
        "                ratios.append(Bval / Aval)\n",
        "\n",
        "        ratioMinIndx = np.argmin(ratios)\n",
        "        cnT[cnMinIndx], cbT[ratioMinIndx] = cbT[ratioMinIndx], cnT[cnMinIndx]\n",
        "        cindx[cnMinIndx], cindx[ratioMinIndx + nonbasicSize] = \\\n",
        "        cindx[ratioMinIndx + nonbasicSize], cindx[cnMinIndx]\n"
      ],
      "metadata": {
        "id": "uysudKvtKnIr"
      },
      "execution_count": null,
      "outputs": []
    },
    {
      "cell_type": "code",
      "source": [
        "# Test the function with the class example\n",
        "x1, x2, z = simplex(100, 150, 3, 2, 1, 2, 6, 5)\n",
        "print(\"Optimal solution: \\nz =\", round(z,1), \"\\nx1 =\", round(x1,1),\"\\nx2 =\", x2)"
      ],
      "metadata": {
        "colab": {
          "base_uri": "https://localhost:8080/"
        },
        "id": "kYzXKsnoLo6i",
        "outputId": "ca9925a6-16f3-4012-d576-3b29cf03abe9"
      },
      "execution_count": null,
      "outputs": [
        {
          "output_type": "stream",
          "name": "stdout",
          "text": [
            "Optimal solution: \n",
            "z = 387.5 \n",
            "x1 = 0.5 \n",
            "x2 = 2.25\n"
          ]
        }
      ]
    },
    {
      "cell_type": "markdown",
      "source": [
        "## Question 2"
      ],
      "metadata": {
        "id": "y7aOJGWtyup9"
      }
    },
    {
      "cell_type": "code",
      "source": [
        "def branch_and_bound(c1, c2, a11, a12, a21, a22, b1, b2):\n",
        "    # Integrate Simplex Function from Part 1\n",
        "    x1, x2, z = simplex(c1, c2, a11, a12, a21, a22, b1, b2)\n",
        "\n",
        "    # Adjustments to ensure integer solutions\n",
        "    x1_int = int(x1)\n",
        "    x2_int = int(x2)\n",
        "\n",
        "    # Recalculate the optimal z value with the integers\n",
        "    z_int = c1 * x1_int + c2 * x2_int\n",
        "    print(f\"Optimal Solution: \\nz = {z_int}\\nx1 = {x1_int}\\nx2 = {x2_int}\")"
      ],
      "metadata": {
        "id": "9nDmKKplM9Wo"
      },
      "execution_count": null,
      "outputs": []
    },
    {
      "cell_type": "code",
      "source": [
        "# Test the function with the class example\n",
        "branch_and_bound(100, 150, 3, 2, 1, 2, 6, 5)"
      ],
      "metadata": {
        "colab": {
          "base_uri": "https://localhost:8080/"
        },
        "id": "ynsgShMLN1Im",
        "outputId": "10018b16-09fc-488a-9ed1-bb9f81550e26"
      },
      "execution_count": null,
      "outputs": [
        {
          "output_type": "stream",
          "name": "stdout",
          "text": [
            "Optimal Solution: \n",
            "z = 300\n",
            "x1 = 0\n",
            "x2 = 2\n"
          ]
        }
      ]
    },
    {
      "cell_type": "markdown",
      "source": [
        "Notice that the only difference between Simplex Algorithm and the Branch-and-Bound Algorithm is the constraints for $x_{1}$ and $x_{2}$. In this question, where using Branch-and-Bound Algorithm, $x_{1}$ and $x_{2}$ are positive integer while Simplex Algorithm only needs positive values. As $x_{1}$ and $x_{2}$ are now some optimal positive integers, the result of optimal $z$ value has changed to 300 now with $x_{1} = 0$ and $x_{2} = 2$ using expression $z = 100x_{1} + 150x_{2}$."
      ],
      "metadata": {
        "id": "_NNyiJY6R6k9"
      }
    },
    {
      "cell_type": "markdown",
      "source": [
        "## Question 3"
      ],
      "metadata": {
        "id": "e14IFIU5W8-F"
      }
    },
    {
      "cell_type": "markdown",
      "source": [
        "Let $x_{ij}$ be the quantity of product transported from $\\text{Warehouse}_{i}$ to $\\text{City}_{j}$.\n",
        "\n",
        "- Capacity constraints for warehouses:\n",
        "\n",
        "The capacity of Warehouse 1 is 500 units, and the capacity of Warehourse 2 is 1800 units.\n",
        "\n",
        "$$x_{11} + x_{12} + x_{13} \\leq 500 \\quad \\text{(Warehouse 1)}$$\n",
        "$$x_{21} + x_{22} + x_{23} \\leq 1800 \\quad \\text{(Warehouse 2)}$$\n",
        "\n",
        "- Demand constraints for cities:\n",
        "\n",
        "The demand values for the product are 600, 700, and 800 units in City 1, 2, and 3, respectively.\n",
        "\n",
        "$$x_{11} + x_{21} = 600 \\quad \\text{(City 1)}$$\n",
        "$$x_{12} + x_{22} = 700 \\quad \\text{(City 2)}$$\n",
        "$$x_{13} + x_{23} = 300 \\quad \\text{(City 3)}$$\n",
        "\n",
        "- Non-negative quantity of product:\n",
        "\n",
        "$$x_{ij} \\geq 0 \\ \\text{for i = 1,2 and j = 1,2,3}$$\n",
        "\n",
        "\n",
        "**Goal**\n",
        "\n",
        "Minimize the total transportation cost $Z$:\n",
        "$$Z = 2x_{11} + 1.5x_{12} + 10x_{13}+4x_{21} + 3.5x_{22} + 6x_{23}$$"
      ],
      "metadata": {
        "id": "rpTcM2JGXx5K"
      }
    },
    {
      "cell_type": "code",
      "source": [
        "! pip install ortools"
      ],
      "metadata": {
        "id": "FO0SVtnrW_bL"
      },
      "execution_count": null,
      "outputs": []
    },
    {
      "cell_type": "code",
      "source": [
        "from ortools.linear_solver import pywraplp"
      ],
      "metadata": {
        "id": "TmDlECQ4Vj3w"
      },
      "execution_count": null,
      "outputs": []
    },
    {
      "cell_type": "code",
      "source": [
        "def transportation_cost(capacities, demands, costs):\n",
        "\n",
        "    # Create the solver\n",
        "    solver = pywraplp.Solver.CreateSolver('SCIP')\n",
        "\n",
        "    # Define variables x_ij\n",
        "    x = {}\n",
        "    for i in range(len(capacities)):\n",
        "        for j in range(len(demands)):\n",
        "            # Get non-negative integers for x_ij\n",
        "            x[(i, j)] = solver.IntVar(0, solver.infinity(), f'x[{i},{j}]')\n",
        "\n",
        "    # Define constraints\n",
        "    # Capacity constraints\n",
        "    for i in range(len(capacities)):\n",
        "        solver.Add(sum(x[(i, j)] for j in range(len(demands))) <= capacities[i])\n",
        "\n",
        "    # Demand constraints\n",
        "    for j in range(len(demands)):\n",
        "        solver.Add(sum(x[(i, j)] for i in range(len(capacities))) == demands[j])\n",
        "\n",
        "    # Define objective, the minimization of cost\n",
        "    objective = solver.Objective()\n",
        "    for i in range(len(capacities)):\n",
        "        for j in range(len(demands)):\n",
        "            objective.SetCoefficient(x[(i, j)], costs[i][j])\n",
        "    objective.SetMinimization()\n",
        "\n",
        "    # Solve the problem\n",
        "    status = solver.Solve()\n",
        "    from tabulate import tabulate\n",
        "\n",
        "    if status == pywraplp.Solver.OPTIMAL:\n",
        "        total_cost = 0\n",
        "        table_data = []\n",
        "        for i in range(len(capacities)):\n",
        "            for j in range(len(demands)):\n",
        "                units = x[(i, j)].solution_value()\n",
        "                table_data.append([f'Warehouse {i+1}', f'City {j+1}',\n",
        "                                   f'{units} units'])\n",
        "                total_cost += costs[i][j] * units\n",
        "        print(tabulate(table_data, headers=['From', 'To', 'Units'],\n",
        "                       tablefmt='grid'))\n",
        "        print(f'\\nTotal cost: ${total_cost}')\n",
        "    else:\n",
        "        print('The problem does not have an optimal solution.')"
      ],
      "metadata": {
        "id": "wEfEDzqjXOOX"
      },
      "execution_count": null,
      "outputs": []
    },
    {
      "cell_type": "code",
      "source": [
        "capacities = [500, 1800]\n",
        "demands = [600, 700, 300]\n",
        "costs = [[2, 1.5, 10],[4, 3.5, 6]]"
      ],
      "metadata": {
        "id": "nCyQBgJIZref"
      },
      "execution_count": null,
      "outputs": []
    },
    {
      "cell_type": "code",
      "source": [
        "transportation_cost(capacities, demands, costs)"
      ],
      "metadata": {
        "colab": {
          "base_uri": "https://localhost:8080/"
        },
        "id": "SHCG6ARTXQm0",
        "outputId": "b621b8b6-452d-452e-d846-1db61746daac"
      },
      "execution_count": null,
      "outputs": [
        {
          "output_type": "stream",
          "name": "stdout",
          "text": [
            "+-------------+--------+-------------+\n",
            "| From        | To     | Units       |\n",
            "+=============+========+=============+\n",
            "| Warehouse 1 | City 1 | 0.0 units   |\n",
            "+-------------+--------+-------------+\n",
            "| Warehouse 1 | City 2 | 500.0 units |\n",
            "+-------------+--------+-------------+\n",
            "| Warehouse 1 | City 3 | 0.0 units   |\n",
            "+-------------+--------+-------------+\n",
            "| Warehouse 2 | City 1 | 600.0 units |\n",
            "+-------------+--------+-------------+\n",
            "| Warehouse 2 | City 2 | 200.0 units |\n",
            "+-------------+--------+-------------+\n",
            "| Warehouse 2 | City 3 | 300.0 units |\n",
            "+-------------+--------+-------------+\n",
            "\n",
            "Total cost: $5650.0\n"
          ]
        }
      ]
    }
  ]
}