{
  "nbformat": 4,
  "nbformat_minor": 0,
  "metadata": {
    "colab": {
      "provenance": []
    },
    "kernelspec": {
      "name": "python3",
      "display_name": "Python 3"
    },
    "language_info": {
      "name": "python"
    }
  },
  "cells": [
    {
      "cell_type": "markdown",
      "source": [
        "\n",
        "\n",
        "## PART 1 (20%)\n",
        "\n",
        "Use “midterm_partone.csv” file that contains the stock-return information of small retailers (the same as the one we used in Session\n",
        "5). Suppose that an industry expert (e.g., David Berman) claims that there is a bias in moment conditions of instrumental variables such that\n",
        "$Z^T(Y - XB) = 𝛿 \\begin{bmatrix}\n",
        "1 \\\\\n",
        "1 \\\\\n",
        "1 \\\\\n",
        "\\end{bmatrix} $, where $𝛿$,the delta term, has a non-zero value, $Z$ is a matrix of instruments, $Y$ is the vector of observations, $X$ is the matrix of explanatory variables, $B$ is the vector of coefficients.\n",
        "\n",
        "\n",
        "\n"
      ],
      "metadata": {
        "id": "MttgpwvUMQ0i"
      }
    },
    {
      "cell_type": "code",
      "execution_count": null,
      "metadata": {
        "id": "Gc8lXXKOMFku"
      },
      "outputs": [],
      "source": [
        "import pandas as pd\n",
        "import numpy as np\n",
        "import matplotlib as mp\n",
        "import statsmodels.api as sm\n",
        "\n",
        "from statsmodels.sandbox.regression.gmm import IV2SLS\n",
        "from statsmodels.sandbox.regression.gmm import GMM"
      ]
    },
    {
      "cell_type": "code",
      "source": [
        "df1 = pd.read_csv(\"/content/midterm_partone.csv\")"
      ],
      "metadata": {
        "id": "eYo8ZAWKOdDl"
      },
      "execution_count": null,
      "outputs": []
    },
    {
      "cell_type": "code",
      "source": [
        "df1.head()"
      ],
      "metadata": {
        "colab": {
          "base_uri": "https://localhost:8080/",
          "height": 206
        },
        "id": "epDVLL3cOnBa",
        "outputId": "5e0cfb16-a429-45c5-d5e5-5ac7af9f75a5"
      },
      "execution_count": null,
      "outputs": [
        {
          "output_type": "execute_result",
          "data": {
            "text/plain": [
              "   Constant  Stock Change  Inventory Turnover  Operating Profit  \\\n",
              "0         1      0.870332            1.795946          0.115846   \n",
              "1         1     -0.047347            1.395501          0.436967   \n",
              "2         1      0.001176            1.664563          0.541016   \n",
              "3         1     -0.901200            1.605738          0.539399   \n",
              "4         1     -0.176353            1.591451          0.539938   \n",
              "\n",
              "   Interaction Effect  Current Ratio  Quick Ratio  Debt Asset Ratio  \n",
              "0            0.208053       1.672527     0.255171          0.473317  \n",
              "1            0.609788       1.637261     0.221763          0.489967  \n",
              "2            0.900555       1.640619     0.189141          0.374269  \n",
              "3            0.866133       1.436221     0.131944          0.224399  \n",
              "4            0.859285       1.433140     0.183095          0.213446  "
            ],
            "text/html": [
              "\n",
              "  <div id=\"df-ae349c0d-8d73-42b1-9855-a55cfa288333\" class=\"colab-df-container\">\n",
              "    <div>\n",
              "<style scoped>\n",
              "    .dataframe tbody tr th:only-of-type {\n",
              "        vertical-align: middle;\n",
              "    }\n",
              "\n",
              "    .dataframe tbody tr th {\n",
              "        vertical-align: top;\n",
              "    }\n",
              "\n",
              "    .dataframe thead th {\n",
              "        text-align: right;\n",
              "    }\n",
              "</style>\n",
              "<table border=\"1\" class=\"dataframe\">\n",
              "  <thead>\n",
              "    <tr style=\"text-align: right;\">\n",
              "      <th></th>\n",
              "      <th>Constant</th>\n",
              "      <th>Stock Change</th>\n",
              "      <th>Inventory Turnover</th>\n",
              "      <th>Operating Profit</th>\n",
              "      <th>Interaction Effect</th>\n",
              "      <th>Current Ratio</th>\n",
              "      <th>Quick Ratio</th>\n",
              "      <th>Debt Asset Ratio</th>\n",
              "    </tr>\n",
              "  </thead>\n",
              "  <tbody>\n",
              "    <tr>\n",
              "      <th>0</th>\n",
              "      <td>1</td>\n",
              "      <td>0.870332</td>\n",
              "      <td>1.795946</td>\n",
              "      <td>0.115846</td>\n",
              "      <td>0.208053</td>\n",
              "      <td>1.672527</td>\n",
              "      <td>0.255171</td>\n",
              "      <td>0.473317</td>\n",
              "    </tr>\n",
              "    <tr>\n",
              "      <th>1</th>\n",
              "      <td>1</td>\n",
              "      <td>-0.047347</td>\n",
              "      <td>1.395501</td>\n",
              "      <td>0.436967</td>\n",
              "      <td>0.609788</td>\n",
              "      <td>1.637261</td>\n",
              "      <td>0.221763</td>\n",
              "      <td>0.489967</td>\n",
              "    </tr>\n",
              "    <tr>\n",
              "      <th>2</th>\n",
              "      <td>1</td>\n",
              "      <td>0.001176</td>\n",
              "      <td>1.664563</td>\n",
              "      <td>0.541016</td>\n",
              "      <td>0.900555</td>\n",
              "      <td>1.640619</td>\n",
              "      <td>0.189141</td>\n",
              "      <td>0.374269</td>\n",
              "    </tr>\n",
              "    <tr>\n",
              "      <th>3</th>\n",
              "      <td>1</td>\n",
              "      <td>-0.901200</td>\n",
              "      <td>1.605738</td>\n",
              "      <td>0.539399</td>\n",
              "      <td>0.866133</td>\n",
              "      <td>1.436221</td>\n",
              "      <td>0.131944</td>\n",
              "      <td>0.224399</td>\n",
              "    </tr>\n",
              "    <tr>\n",
              "      <th>4</th>\n",
              "      <td>1</td>\n",
              "      <td>-0.176353</td>\n",
              "      <td>1.591451</td>\n",
              "      <td>0.539938</td>\n",
              "      <td>0.859285</td>\n",
              "      <td>1.433140</td>\n",
              "      <td>0.183095</td>\n",
              "      <td>0.213446</td>\n",
              "    </tr>\n",
              "  </tbody>\n",
              "</table>\n",
              "</div>\n",
              "    <div class=\"colab-df-buttons\">\n",
              "\n",
              "  <div class=\"colab-df-container\">\n",
              "    <button class=\"colab-df-convert\" onclick=\"convertToInteractive('df-ae349c0d-8d73-42b1-9855-a55cfa288333')\"\n",
              "            title=\"Convert this dataframe to an interactive table.\"\n",
              "            style=\"display:none;\">\n",
              "\n",
              "  <svg xmlns=\"http://www.w3.org/2000/svg\" height=\"24px\" viewBox=\"0 -960 960 960\">\n",
              "    <path d=\"M120-120v-720h720v720H120Zm60-500h600v-160H180v160Zm220 220h160v-160H400v160Zm0 220h160v-160H400v160ZM180-400h160v-160H180v160Zm440 0h160v-160H620v160ZM180-180h160v-160H180v160Zm440 0h160v-160H620v160Z\"/>\n",
              "  </svg>\n",
              "    </button>\n",
              "\n",
              "  <style>\n",
              "    .colab-df-container {\n",
              "      display:flex;\n",
              "      gap: 12px;\n",
              "    }\n",
              "\n",
              "    .colab-df-convert {\n",
              "      background-color: #E8F0FE;\n",
              "      border: none;\n",
              "      border-radius: 50%;\n",
              "      cursor: pointer;\n",
              "      display: none;\n",
              "      fill: #1967D2;\n",
              "      height: 32px;\n",
              "      padding: 0 0 0 0;\n",
              "      width: 32px;\n",
              "    }\n",
              "\n",
              "    .colab-df-convert:hover {\n",
              "      background-color: #E2EBFA;\n",
              "      box-shadow: 0px 1px 2px rgba(60, 64, 67, 0.3), 0px 1px 3px 1px rgba(60, 64, 67, 0.15);\n",
              "      fill: #174EA6;\n",
              "    }\n",
              "\n",
              "    .colab-df-buttons div {\n",
              "      margin-bottom: 4px;\n",
              "    }\n",
              "\n",
              "    [theme=dark] .colab-df-convert {\n",
              "      background-color: #3B4455;\n",
              "      fill: #D2E3FC;\n",
              "    }\n",
              "\n",
              "    [theme=dark] .colab-df-convert:hover {\n",
              "      background-color: #434B5C;\n",
              "      box-shadow: 0px 1px 3px 1px rgba(0, 0, 0, 0.15);\n",
              "      filter: drop-shadow(0px 1px 2px rgba(0, 0, 0, 0.3));\n",
              "      fill: #FFFFFF;\n",
              "    }\n",
              "  </style>\n",
              "\n",
              "    <script>\n",
              "      const buttonEl =\n",
              "        document.querySelector('#df-ae349c0d-8d73-42b1-9855-a55cfa288333 button.colab-df-convert');\n",
              "      buttonEl.style.display =\n",
              "        google.colab.kernel.accessAllowed ? 'block' : 'none';\n",
              "\n",
              "      async function convertToInteractive(key) {\n",
              "        const element = document.querySelector('#df-ae349c0d-8d73-42b1-9855-a55cfa288333');\n",
              "        const dataTable =\n",
              "          await google.colab.kernel.invokeFunction('convertToInteractive',\n",
              "                                                    [key], {});\n",
              "        if (!dataTable) return;\n",
              "\n",
              "        const docLinkHtml = 'Like what you see? Visit the ' +\n",
              "          '<a target=\"_blank\" href=https://colab.research.google.com/notebooks/data_table.ipynb>data table notebook</a>'\n",
              "          + ' to learn more about interactive tables.';\n",
              "        element.innerHTML = '';\n",
              "        dataTable['output_type'] = 'display_data';\n",
              "        await google.colab.output.renderOutput(dataTable, element);\n",
              "        const docLink = document.createElement('div');\n",
              "        docLink.innerHTML = docLinkHtml;\n",
              "        element.appendChild(docLink);\n",
              "      }\n",
              "    </script>\n",
              "  </div>\n",
              "\n",
              "\n",
              "<div id=\"df-7f950a69-533e-48be-b2cc-cef32429c750\">\n",
              "  <button class=\"colab-df-quickchart\" onclick=\"quickchart('df-7f950a69-533e-48be-b2cc-cef32429c750')\"\n",
              "            title=\"Suggest charts.\"\n",
              "            style=\"display:none;\">\n",
              "\n",
              "<svg xmlns=\"http://www.w3.org/2000/svg\" height=\"24px\"viewBox=\"0 0 24 24\"\n",
              "     width=\"24px\">\n",
              "    <g>\n",
              "        <path d=\"M19 3H5c-1.1 0-2 .9-2 2v14c0 1.1.9 2 2 2h14c1.1 0 2-.9 2-2V5c0-1.1-.9-2-2-2zM9 17H7v-7h2v7zm4 0h-2V7h2v10zm4 0h-2v-4h2v4z\"/>\n",
              "    </g>\n",
              "</svg>\n",
              "  </button>\n",
              "\n",
              "<style>\n",
              "  .colab-df-quickchart {\n",
              "      --bg-color: #E8F0FE;\n",
              "      --fill-color: #1967D2;\n",
              "      --hover-bg-color: #E2EBFA;\n",
              "      --hover-fill-color: #174EA6;\n",
              "      --disabled-fill-color: #AAA;\n",
              "      --disabled-bg-color: #DDD;\n",
              "  }\n",
              "\n",
              "  [theme=dark] .colab-df-quickchart {\n",
              "      --bg-color: #3B4455;\n",
              "      --fill-color: #D2E3FC;\n",
              "      --hover-bg-color: #434B5C;\n",
              "      --hover-fill-color: #FFFFFF;\n",
              "      --disabled-bg-color: #3B4455;\n",
              "      --disabled-fill-color: #666;\n",
              "  }\n",
              "\n",
              "  .colab-df-quickchart {\n",
              "    background-color: var(--bg-color);\n",
              "    border: none;\n",
              "    border-radius: 50%;\n",
              "    cursor: pointer;\n",
              "    display: none;\n",
              "    fill: var(--fill-color);\n",
              "    height: 32px;\n",
              "    padding: 0;\n",
              "    width: 32px;\n",
              "  }\n",
              "\n",
              "  .colab-df-quickchart:hover {\n",
              "    background-color: var(--hover-bg-color);\n",
              "    box-shadow: 0 1px 2px rgba(60, 64, 67, 0.3), 0 1px 3px 1px rgba(60, 64, 67, 0.15);\n",
              "    fill: var(--button-hover-fill-color);\n",
              "  }\n",
              "\n",
              "  .colab-df-quickchart-complete:disabled,\n",
              "  .colab-df-quickchart-complete:disabled:hover {\n",
              "    background-color: var(--disabled-bg-color);\n",
              "    fill: var(--disabled-fill-color);\n",
              "    box-shadow: none;\n",
              "  }\n",
              "\n",
              "  .colab-df-spinner {\n",
              "    border: 2px solid var(--fill-color);\n",
              "    border-color: transparent;\n",
              "    border-bottom-color: var(--fill-color);\n",
              "    animation:\n",
              "      spin 1s steps(1) infinite;\n",
              "  }\n",
              "\n",
              "  @keyframes spin {\n",
              "    0% {\n",
              "      border-color: transparent;\n",
              "      border-bottom-color: var(--fill-color);\n",
              "      border-left-color: var(--fill-color);\n",
              "    }\n",
              "    20% {\n",
              "      border-color: transparent;\n",
              "      border-left-color: var(--fill-color);\n",
              "      border-top-color: var(--fill-color);\n",
              "    }\n",
              "    30% {\n",
              "      border-color: transparent;\n",
              "      border-left-color: var(--fill-color);\n",
              "      border-top-color: var(--fill-color);\n",
              "      border-right-color: var(--fill-color);\n",
              "    }\n",
              "    40% {\n",
              "      border-color: transparent;\n",
              "      border-right-color: var(--fill-color);\n",
              "      border-top-color: var(--fill-color);\n",
              "    }\n",
              "    60% {\n",
              "      border-color: transparent;\n",
              "      border-right-color: var(--fill-color);\n",
              "    }\n",
              "    80% {\n",
              "      border-color: transparent;\n",
              "      border-right-color: var(--fill-color);\n",
              "      border-bottom-color: var(--fill-color);\n",
              "    }\n",
              "    90% {\n",
              "      border-color: transparent;\n",
              "      border-bottom-color: var(--fill-color);\n",
              "    }\n",
              "  }\n",
              "</style>\n",
              "\n",
              "  <script>\n",
              "    async function quickchart(key) {\n",
              "      const quickchartButtonEl =\n",
              "        document.querySelector('#' + key + ' button');\n",
              "      quickchartButtonEl.disabled = true;  // To prevent multiple clicks.\n",
              "      quickchartButtonEl.classList.add('colab-df-spinner');\n",
              "      try {\n",
              "        const charts = await google.colab.kernel.invokeFunction(\n",
              "            'suggestCharts', [key], {});\n",
              "      } catch (error) {\n",
              "        console.error('Error during call to suggestCharts:', error);\n",
              "      }\n",
              "      quickchartButtonEl.classList.remove('colab-df-spinner');\n",
              "      quickchartButtonEl.classList.add('colab-df-quickchart-complete');\n",
              "    }\n",
              "    (() => {\n",
              "      let quickchartButtonEl =\n",
              "        document.querySelector('#df-7f950a69-533e-48be-b2cc-cef32429c750 button');\n",
              "      quickchartButtonEl.style.display =\n",
              "        google.colab.kernel.accessAllowed ? 'block' : 'none';\n",
              "    })();\n",
              "  </script>\n",
              "</div>\n",
              "    </div>\n",
              "  </div>\n"
            ]
          },
          "metadata": {},
          "execution_count": 4
        }
      ]
    },
    {
      "cell_type": "code",
      "source": [
        "# df1.info(); df1.describe()"
      ],
      "metadata": {
        "id": "hkaw63QuOvkP"
      },
      "execution_count": null,
      "outputs": []
    },
    {
      "cell_type": "markdown",
      "source": [
        "### 1.\n",
        "Update the GMM model that we discussed in class by incorporating the 𝛿 term to the instrumental-variable moment expressions."
      ],
      "metadata": {
        "id": "dKFyG43mPJ7v"
      }
    },
    {
      "cell_type": "code",
      "source": [
        "class BiasedIVGMM(GMM):\n",
        "    def momcond(self, params):\n",
        "        beta = params[:-1]  # Coefficients for the exogenous variables\n",
        "        delta = params[-1]  # Bias term or delta\n",
        "\n",
        "        # Calculate the residuals/errors under OLS model\n",
        "        residuals = self.endog - np.dot(self.exog, beta)\n",
        "\n",
        "        # Calculate the moments for the exogenous variables\n",
        "        moments_exog = residuals[:, None] * self.exog\n",
        "\n",
        "        # Calculate the moments for the instruments\n",
        "        moments_instr = residuals[:, None] * self.instrument - delta\n",
        "\n",
        "        # Combine the moments into one array\n",
        "        moments = np.hstack([moments_exog, moments_instr])\n",
        "\n",
        "        return moments\n"
      ],
      "metadata": {
        "id": "cfglVa-CJisl"
      },
      "execution_count": null,
      "outputs": []
    },
    {
      "cell_type": "markdown",
      "source": [
        "### 2.\n",
        "By analyzing the GMM summary table and test statistics of coefficients, determine if the industry expert's claim is statistically justified.\n",
        "\n"
      ],
      "metadata": {
        "id": "DUJgE7TPiO9G"
      }
    },
    {
      "cell_type": "code",
      "source": [
        "# dependent variable: Y\n",
        "y_vals = np.array(df1[\"Stock Change\"])\n",
        "\n",
        "# endogenous variable and exogenous variables: X\n",
        "x_vals = np.array(df1[[\"Constant\", \"Inventory Turnover\",\"Operating Profit\",\n",
        "                        \"Interaction Effect\"]])\n",
        "# instruments: Z\n",
        "iv_vals = np.array(df1[[\"Current Ratio\",\"Quick Ratio\",\"Debt Asset Ratio\"]])"
      ],
      "metadata": {
        "id": "NV7O1nKVUXZw"
      },
      "execution_count": null,
      "outputs": []
    },
    {
      "cell_type": "code",
      "source": [
        "# Number of exogenous variables and instruments\n",
        "num_exog = x_vals.shape[1]\n",
        "num_instr = iv_vals.shape[1]\n",
        "\n",
        "# Initial parameters: betas for exogenous variables and 1 delta\n",
        "beta0 = np.array([0.1, 0.1, 0.1, 0.1, 0.1])\n",
        "\n",
        "res = BiasedIVGMM(endog=y_vals, exog=x_vals, instrument=iv_vals,\n",
        "                  k_moms=num_exog + num_instr,\n",
        "                  k_params=num_exog + 1).fit(start_params=beta0)\n",
        "\n",
        "# Print the summary of the results\n",
        "print(res.summary())\n"
      ],
      "metadata": {
        "colab": {
          "base_uri": "https://localhost:8080/"
        },
        "id": "NwTsovwrJ5iA",
        "outputId": "550991e0-d1e6-443c-e334-4510dc00aa24"
      },
      "execution_count": null,
      "outputs": [
        {
          "output_type": "stream",
          "name": "stdout",
          "text": [
            "Optimization terminated successfully.\n",
            "         Current function value: 0.000095\n",
            "         Iterations: 12\n",
            "         Function evaluations: 16\n",
            "         Gradient evaluations: 16\n",
            "Optimization terminated successfully.\n",
            "         Current function value: 0.001753\n",
            "         Iterations: 8\n",
            "         Function evaluations: 11\n",
            "         Gradient evaluations: 11\n",
            "Optimization terminated successfully.\n",
            "         Current function value: 0.001735\n",
            "         Iterations: 7\n",
            "         Function evaluations: 12\n",
            "         Gradient evaluations: 12\n",
            "Optimization terminated successfully.\n",
            "         Current function value: 0.001735\n",
            "         Iterations: 5\n",
            "         Function evaluations: 9\n",
            "         Gradient evaluations: 9\n",
            "Optimization terminated successfully.\n",
            "         Current function value: 0.001735\n",
            "         Iterations: 0\n",
            "         Function evaluations: 1\n",
            "         Gradient evaluations: 1\n",
            "                             BiasedIVGMM Results                              \n",
            "==============================================================================\n",
            "Dep. Variable:                      y   Hansen J:                        2.942\n",
            "Model:                    BiasedIVGMM   Prob (Hansen J):                 0.230\n",
            "Method:                           GMM                                         \n",
            "Date:                Sat, 04 Nov 2023                                         \n",
            "Time:                        21:15:49                                         \n",
            "No. Observations:                1696                                         \n",
            "==============================================================================\n",
            "                 coef    std err          z      P>|z|      [0.025      0.975]\n",
            "------------------------------------------------------------------------------\n",
            "p 0           -0.0011      0.017     -0.063      0.949      -0.034       0.032\n",
            "p 1            0.0004      0.000      1.001      0.317      -0.000       0.001\n",
            "p 2           -0.1191      0.031     -3.860      0.000      -0.180      -0.059\n",
            "p 3            0.0014      0.000      3.640      0.000       0.001       0.002\n",
            "p 4            0.0003      0.003      0.132      0.895      -0.005       0.006\n",
            "==============================================================================\n"
          ]
        }
      ]
    },
    {
      "cell_type": "markdown",
      "source": [
        "$$Stock Change=−0.0011+0.0004×Inventory Turnover−0.1191×Operating Profit+0.0014×Interaction Effect+0.0003$$"
      ],
      "metadata": {
        "id": "HUspIcX5z10S"
      }
    },
    {
      "cell_type": "markdown",
      "source": [
        "**Coefficients**\n",
        "\n",
        "\n",
        "- $p_{0}$: -0.0011  \n",
        "\n",
        "The value of Stock Change is -0.0011 when all other independent variables are 0.\n",
        "\n",
        "- $p_{1}$: 0.0004   \n",
        "\n",
        "One-unit increase in Inventory Turnover, holding all other variables constant Stock Change is expected to increase by 0.0004 units\n",
        "\n",
        "- $p_{2}$: -0.1191\n",
        "\n",
        "One-unit increase in Opearting Profit, holding all other variables constant. Stock Change is expected to decrease by 0.1191 units\n",
        "\n",
        "- $p_{3}$: 0.0014  \n",
        "\n",
        "Every additional unit increase in Operating Profit, the effect of Inventory Turnover on Stock Change increases by 0.0014 units.\n",
        "\n",
        "- $p_{4}$: 0.0003\n",
        "\n",
        "The coefficient of bias term δ of 0.0003 is small, suggests that any potential bias in the OLS estimates due to the IVs is minimal."
      ],
      "metadata": {
        "id": "JRAl2sR1ZU5i"
      }
    },
    {
      "cell_type": "markdown",
      "source": [
        "**P-values**\n",
        "\n",
        "\n",
        "\n",
        "\n",
        "\n",
        "*   $p_{0}$:0.949   \n",
        "\n",
        "The constant term is not significantly different from zero since the p-value is larger than 0.05.\n",
        "\n",
        "*   $p_{1}$: 0.317\n",
        "\n",
        "The Inventory Turnover is not significantly different from zero since the p-value is larger than 0.05.\n",
        "\n",
        "\n",
        "- $p_{2}$:0.000  \n",
        "\n",
        "The Operating Profit is statistical significant due to a extreme small.p-value.\n",
        "\n",
        "\n",
        "- $p_{3}$: 0.000  \n",
        "\n",
        "The Interaction term is statistical significant due to a extreme small.p-value\n",
        "- $p_{4}$: 0.895  \n",
        "\n",
        "The bias term δ is not statistical significant from zero since the p-value is larger than 0.05.Thus, there might not have a systematic biasin the moment conditions."
      ],
      "metadata": {
        "id": "qpJtUQKj1GKq"
      }
    },
    {
      "cell_type": "markdown",
      "source": [
        "The Hansen J statistic of 2.942 with a p-value of 0.230 indicates that we cannot reject the null hypothesis that the instrument is valid, such that the instrument is appropriately uncorrelated with the error term.\n",
        "\n",
        "\n",
        "Based on the statistical evidence from the GMM summary results, David Berman's claim about a bias in the moment conditions is not correct. The findings imply that the instruments are valid, and there is no significant bias present in the moment conditions."
      ],
      "metadata": {
        "id": "fphomrZxN_lO"
      }
    },
    {
      "cell_type": "markdown",
      "source": [
        "## Part 2 (80%)"
      ],
      "metadata": {
        "id": "65OcbTXyONdW"
      }
    },
    {
      "cell_type": "markdown",
      "source": [
        "A global bank that started to operate in Turkey in 2000s decided to expand its presence in small\n",
        "cities and even villages. The executives spent long times to develop an expansion strategy by\n",
        "focusing on how to attract customers in small cities, rather than big cities such as Istanbul,\n",
        "because they expected less competition in those regions. The main challenge for such an\n",
        "expansion was that many people living in small cities did not have even a bank account. According\n",
        "to a World Bank report, for example, 1.7 billion adults in the world do not have any account in a\n",
        "financial institution.\n",
        "\n",
        "\n",
        "In small cities, people do not need a bank account for two reasons. First, online payments can be\n",
        "made through GSM operators by sending an SMS, which is popular in Turkey\n",
        "(https://www.ft.com/content/ce9227b0-129e-433a-b9fc-0744b163451b). Owing to the SMS\n",
        "payment possibility, residents of a small Turkish city do not need a credit card nor a bank account.\n",
        "The second reason is that credit applications in small cities are processed slowly in comparison\n",
        "to big cities because the documents taken from a customer should be sent by post to main\n",
        "branches in big cities where risk management experts approve or decline the applications. Being\n",
        "aware of long processing times, the residents usually borrow money from their families or\n",
        "friends, instead of going to a bank.\n",
        "\n",
        "\n",
        "To attract new customers in small cities, the bank decided to automate the assessment of credit\n",
        "applications. A team of experts by the bank used the credit score data and tested some\n",
        "approaches. They helped the bank shorten the processing time for some group of customers. But\n",
        "the involvement of risk management team is unavoidable to assess the application of some high-\n",
        "risk customers. Therefore, the bank attracted new customers for some segments, while many\n",
        "customers still stay unbanked. Use the dataset “midterm_parttwo.csv” to answer the questions."
      ],
      "metadata": {
        "id": "M7VmcZVbOi49"
      }
    },
    {
      "cell_type": "code",
      "source": [
        "df2 = pd.read_csv(\"/content/midterm_parttwo.csv\")"
      ],
      "metadata": {
        "id": "g5vJ4rnXO3Uf"
      },
      "execution_count": null,
      "outputs": []
    },
    {
      "cell_type": "code",
      "source": [
        "df2.head()"
      ],
      "metadata": {
        "colab": {
          "base_uri": "https://localhost:8080/",
          "height": 206
        },
        "id": "EJB0_F00O9Z-",
        "outputId": "958fc7ab-6f9a-40ab-b24a-e478d24c2ed9"
      },
      "execution_count": null,
      "outputs": [
        {
          "output_type": "execute_result",
          "data": {
            "text/plain": [
              "   Years of Education after High School Requested Credit Amount  \\\n",
              "0                                     1                     Low   \n",
              "1                                     2                     Low   \n",
              "2                                     1                     Low   \n",
              "3                                     3                     Low   \n",
              "4                                     3                     Low   \n",
              "\n",
              "  Number of Dependents Monthly Income Monthly Expense Marital Status  \\\n",
              "0         No dependent       Very low        Very low        Married   \n",
              "1         No dependent       Very low        Very low         Single   \n",
              "2         No dependent       Very low        Very low         Single   \n",
              "3         No dependent       Very low        Very low        Married   \n",
              "4         No dependent       Very low        Very low         Single   \n",
              "\n",
              "  Credit Rating  \n",
              "0      Positive  \n",
              "1      Positive  \n",
              "2      Positive  \n",
              "3      Positive  \n",
              "4      Negative  "
            ],
            "text/html": [
              "\n",
              "  <div id=\"df-18851a0c-1923-414c-bed4-8be61df3ffcb\" class=\"colab-df-container\">\n",
              "    <div>\n",
              "<style scoped>\n",
              "    .dataframe tbody tr th:only-of-type {\n",
              "        vertical-align: middle;\n",
              "    }\n",
              "\n",
              "    .dataframe tbody tr th {\n",
              "        vertical-align: top;\n",
              "    }\n",
              "\n",
              "    .dataframe thead th {\n",
              "        text-align: right;\n",
              "    }\n",
              "</style>\n",
              "<table border=\"1\" class=\"dataframe\">\n",
              "  <thead>\n",
              "    <tr style=\"text-align: right;\">\n",
              "      <th></th>\n",
              "      <th>Years of Education after High School</th>\n",
              "      <th>Requested Credit Amount</th>\n",
              "      <th>Number of Dependents</th>\n",
              "      <th>Monthly Income</th>\n",
              "      <th>Monthly Expense</th>\n",
              "      <th>Marital Status</th>\n",
              "      <th>Credit Rating</th>\n",
              "    </tr>\n",
              "  </thead>\n",
              "  <tbody>\n",
              "    <tr>\n",
              "      <th>0</th>\n",
              "      <td>1</td>\n",
              "      <td>Low</td>\n",
              "      <td>No dependent</td>\n",
              "      <td>Very low</td>\n",
              "      <td>Very low</td>\n",
              "      <td>Married</td>\n",
              "      <td>Positive</td>\n",
              "    </tr>\n",
              "    <tr>\n",
              "      <th>1</th>\n",
              "      <td>2</td>\n",
              "      <td>Low</td>\n",
              "      <td>No dependent</td>\n",
              "      <td>Very low</td>\n",
              "      <td>Very low</td>\n",
              "      <td>Single</td>\n",
              "      <td>Positive</td>\n",
              "    </tr>\n",
              "    <tr>\n",
              "      <th>2</th>\n",
              "      <td>1</td>\n",
              "      <td>Low</td>\n",
              "      <td>No dependent</td>\n",
              "      <td>Very low</td>\n",
              "      <td>Very low</td>\n",
              "      <td>Single</td>\n",
              "      <td>Positive</td>\n",
              "    </tr>\n",
              "    <tr>\n",
              "      <th>3</th>\n",
              "      <td>3</td>\n",
              "      <td>Low</td>\n",
              "      <td>No dependent</td>\n",
              "      <td>Very low</td>\n",
              "      <td>Very low</td>\n",
              "      <td>Married</td>\n",
              "      <td>Positive</td>\n",
              "    </tr>\n",
              "    <tr>\n",
              "      <th>4</th>\n",
              "      <td>3</td>\n",
              "      <td>Low</td>\n",
              "      <td>No dependent</td>\n",
              "      <td>Very low</td>\n",
              "      <td>Very low</td>\n",
              "      <td>Single</td>\n",
              "      <td>Negative</td>\n",
              "    </tr>\n",
              "  </tbody>\n",
              "</table>\n",
              "</div>\n",
              "    <div class=\"colab-df-buttons\">\n",
              "\n",
              "  <div class=\"colab-df-container\">\n",
              "    <button class=\"colab-df-convert\" onclick=\"convertToInteractive('df-18851a0c-1923-414c-bed4-8be61df3ffcb')\"\n",
              "            title=\"Convert this dataframe to an interactive table.\"\n",
              "            style=\"display:none;\">\n",
              "\n",
              "  <svg xmlns=\"http://www.w3.org/2000/svg\" height=\"24px\" viewBox=\"0 -960 960 960\">\n",
              "    <path d=\"M120-120v-720h720v720H120Zm60-500h600v-160H180v160Zm220 220h160v-160H400v160Zm0 220h160v-160H400v160ZM180-400h160v-160H180v160Zm440 0h160v-160H620v160ZM180-180h160v-160H180v160Zm440 0h160v-160H620v160Z\"/>\n",
              "  </svg>\n",
              "    </button>\n",
              "\n",
              "  <style>\n",
              "    .colab-df-container {\n",
              "      display:flex;\n",
              "      gap: 12px;\n",
              "    }\n",
              "\n",
              "    .colab-df-convert {\n",
              "      background-color: #E8F0FE;\n",
              "      border: none;\n",
              "      border-radius: 50%;\n",
              "      cursor: pointer;\n",
              "      display: none;\n",
              "      fill: #1967D2;\n",
              "      height: 32px;\n",
              "      padding: 0 0 0 0;\n",
              "      width: 32px;\n",
              "    }\n",
              "\n",
              "    .colab-df-convert:hover {\n",
              "      background-color: #E2EBFA;\n",
              "      box-shadow: 0px 1px 2px rgba(60, 64, 67, 0.3), 0px 1px 3px 1px rgba(60, 64, 67, 0.15);\n",
              "      fill: #174EA6;\n",
              "    }\n",
              "\n",
              "    .colab-df-buttons div {\n",
              "      margin-bottom: 4px;\n",
              "    }\n",
              "\n",
              "    [theme=dark] .colab-df-convert {\n",
              "      background-color: #3B4455;\n",
              "      fill: #D2E3FC;\n",
              "    }\n",
              "\n",
              "    [theme=dark] .colab-df-convert:hover {\n",
              "      background-color: #434B5C;\n",
              "      box-shadow: 0px 1px 3px 1px rgba(0, 0, 0, 0.15);\n",
              "      filter: drop-shadow(0px 1px 2px rgba(0, 0, 0, 0.3));\n",
              "      fill: #FFFFFF;\n",
              "    }\n",
              "  </style>\n",
              "\n",
              "    <script>\n",
              "      const buttonEl =\n",
              "        document.querySelector('#df-18851a0c-1923-414c-bed4-8be61df3ffcb button.colab-df-convert');\n",
              "      buttonEl.style.display =\n",
              "        google.colab.kernel.accessAllowed ? 'block' : 'none';\n",
              "\n",
              "      async function convertToInteractive(key) {\n",
              "        const element = document.querySelector('#df-18851a0c-1923-414c-bed4-8be61df3ffcb');\n",
              "        const dataTable =\n",
              "          await google.colab.kernel.invokeFunction('convertToInteractive',\n",
              "                                                    [key], {});\n",
              "        if (!dataTable) return;\n",
              "\n",
              "        const docLinkHtml = 'Like what you see? Visit the ' +\n",
              "          '<a target=\"_blank\" href=https://colab.research.google.com/notebooks/data_table.ipynb>data table notebook</a>'\n",
              "          + ' to learn more about interactive tables.';\n",
              "        element.innerHTML = '';\n",
              "        dataTable['output_type'] = 'display_data';\n",
              "        await google.colab.output.renderOutput(dataTable, element);\n",
              "        const docLink = document.createElement('div');\n",
              "        docLink.innerHTML = docLinkHtml;\n",
              "        element.appendChild(docLink);\n",
              "      }\n",
              "    </script>\n",
              "  </div>\n",
              "\n",
              "\n",
              "<div id=\"df-424595fa-4808-44a8-adfb-05d673936bcb\">\n",
              "  <button class=\"colab-df-quickchart\" onclick=\"quickchart('df-424595fa-4808-44a8-adfb-05d673936bcb')\"\n",
              "            title=\"Suggest charts.\"\n",
              "            style=\"display:none;\">\n",
              "\n",
              "<svg xmlns=\"http://www.w3.org/2000/svg\" height=\"24px\"viewBox=\"0 0 24 24\"\n",
              "     width=\"24px\">\n",
              "    <g>\n",
              "        <path d=\"M19 3H5c-1.1 0-2 .9-2 2v14c0 1.1.9 2 2 2h14c1.1 0 2-.9 2-2V5c0-1.1-.9-2-2-2zM9 17H7v-7h2v7zm4 0h-2V7h2v10zm4 0h-2v-4h2v4z\"/>\n",
              "    </g>\n",
              "</svg>\n",
              "  </button>\n",
              "\n",
              "<style>\n",
              "  .colab-df-quickchart {\n",
              "      --bg-color: #E8F0FE;\n",
              "      --fill-color: #1967D2;\n",
              "      --hover-bg-color: #E2EBFA;\n",
              "      --hover-fill-color: #174EA6;\n",
              "      --disabled-fill-color: #AAA;\n",
              "      --disabled-bg-color: #DDD;\n",
              "  }\n",
              "\n",
              "  [theme=dark] .colab-df-quickchart {\n",
              "      --bg-color: #3B4455;\n",
              "      --fill-color: #D2E3FC;\n",
              "      --hover-bg-color: #434B5C;\n",
              "      --hover-fill-color: #FFFFFF;\n",
              "      --disabled-bg-color: #3B4455;\n",
              "      --disabled-fill-color: #666;\n",
              "  }\n",
              "\n",
              "  .colab-df-quickchart {\n",
              "    background-color: var(--bg-color);\n",
              "    border: none;\n",
              "    border-radius: 50%;\n",
              "    cursor: pointer;\n",
              "    display: none;\n",
              "    fill: var(--fill-color);\n",
              "    height: 32px;\n",
              "    padding: 0;\n",
              "    width: 32px;\n",
              "  }\n",
              "\n",
              "  .colab-df-quickchart:hover {\n",
              "    background-color: var(--hover-bg-color);\n",
              "    box-shadow: 0 1px 2px rgba(60, 64, 67, 0.3), 0 1px 3px 1px rgba(60, 64, 67, 0.15);\n",
              "    fill: var(--button-hover-fill-color);\n",
              "  }\n",
              "\n",
              "  .colab-df-quickchart-complete:disabled,\n",
              "  .colab-df-quickchart-complete:disabled:hover {\n",
              "    background-color: var(--disabled-bg-color);\n",
              "    fill: var(--disabled-fill-color);\n",
              "    box-shadow: none;\n",
              "  }\n",
              "\n",
              "  .colab-df-spinner {\n",
              "    border: 2px solid var(--fill-color);\n",
              "    border-color: transparent;\n",
              "    border-bottom-color: var(--fill-color);\n",
              "    animation:\n",
              "      spin 1s steps(1) infinite;\n",
              "  }\n",
              "\n",
              "  @keyframes spin {\n",
              "    0% {\n",
              "      border-color: transparent;\n",
              "      border-bottom-color: var(--fill-color);\n",
              "      border-left-color: var(--fill-color);\n",
              "    }\n",
              "    20% {\n",
              "      border-color: transparent;\n",
              "      border-left-color: var(--fill-color);\n",
              "      border-top-color: var(--fill-color);\n",
              "    }\n",
              "    30% {\n",
              "      border-color: transparent;\n",
              "      border-left-color: var(--fill-color);\n",
              "      border-top-color: var(--fill-color);\n",
              "      border-right-color: var(--fill-color);\n",
              "    }\n",
              "    40% {\n",
              "      border-color: transparent;\n",
              "      border-right-color: var(--fill-color);\n",
              "      border-top-color: var(--fill-color);\n",
              "    }\n",
              "    60% {\n",
              "      border-color: transparent;\n",
              "      border-right-color: var(--fill-color);\n",
              "    }\n",
              "    80% {\n",
              "      border-color: transparent;\n",
              "      border-right-color: var(--fill-color);\n",
              "      border-bottom-color: var(--fill-color);\n",
              "    }\n",
              "    90% {\n",
              "      border-color: transparent;\n",
              "      border-bottom-color: var(--fill-color);\n",
              "    }\n",
              "  }\n",
              "</style>\n",
              "\n",
              "  <script>\n",
              "    async function quickchart(key) {\n",
              "      const quickchartButtonEl =\n",
              "        document.querySelector('#' + key + ' button');\n",
              "      quickchartButtonEl.disabled = true;  // To prevent multiple clicks.\n",
              "      quickchartButtonEl.classList.add('colab-df-spinner');\n",
              "      try {\n",
              "        const charts = await google.colab.kernel.invokeFunction(\n",
              "            'suggestCharts', [key], {});\n",
              "      } catch (error) {\n",
              "        console.error('Error during call to suggestCharts:', error);\n",
              "      }\n",
              "      quickchartButtonEl.classList.remove('colab-df-spinner');\n",
              "      quickchartButtonEl.classList.add('colab-df-quickchart-complete');\n",
              "    }\n",
              "    (() => {\n",
              "      let quickchartButtonEl =\n",
              "        document.querySelector('#df-424595fa-4808-44a8-adfb-05d673936bcb button');\n",
              "      quickchartButtonEl.style.display =\n",
              "        google.colab.kernel.accessAllowed ? 'block' : 'none';\n",
              "    })();\n",
              "  </script>\n",
              "</div>\n",
              "    </div>\n",
              "  </div>\n"
            ]
          },
          "metadata": {},
          "execution_count": 96
        }
      ]
    },
    {
      "cell_type": "code",
      "source": [
        "df2.info()"
      ],
      "metadata": {
        "colab": {
          "base_uri": "https://localhost:8080/"
        },
        "id": "iZNmKemRO_RQ",
        "outputId": "8469bc19-83c6-4de3-fc54-dd4674154fcf"
      },
      "execution_count": null,
      "outputs": [
        {
          "output_type": "stream",
          "name": "stdout",
          "text": [
            "<class 'pandas.core.frame.DataFrame'>\n",
            "RangeIndex: 8081 entries, 0 to 8080\n",
            "Data columns (total 7 columns):\n",
            " #   Column                                Non-Null Count  Dtype \n",
            "---  ------                                --------------  ----- \n",
            " 0   Years of Education after High School  8081 non-null   int64 \n",
            " 1   Requested Credit Amount               8081 non-null   object\n",
            " 2   Number of Dependents                  8081 non-null   object\n",
            " 3   Monthly Income                        8081 non-null   object\n",
            " 4   Monthly Expense                       8081 non-null   object\n",
            " 5   Marital Status                        8081 non-null   object\n",
            " 6   Credit Rating                         8081 non-null   object\n",
            "dtypes: int64(1), object(6)\n",
            "memory usage: 442.1+ KB\n"
          ]
        }
      ]
    },
    {
      "cell_type": "markdown",
      "source": [
        "### 1.\n",
        "Divide the dataset equally into two as training (50%) and test (50%) sets. Use the training set to fit a logistic regression model, where the credit rating is the dependent variable. Apply the model to the test set, and report the confusion matrix, recall, precision, and F1 score values."
      ],
      "metadata": {
        "id": "Ag4_qE5VpQNH"
      }
    },
    {
      "cell_type": "code",
      "source": [
        "from sklearn.model_selection import train_test_split\n",
        "from sklearn.preprocessing import OneHotEncoder\n",
        "\n",
        "# Identifying the feature columns and the target column\n",
        "feature_columns = df2.columns[:-1]  # all columns except the last one\n",
        "target_column = df2.columns[-1]  # the last column: Credit Rating\n",
        "\n",
        "# Separating the features and the target variable\n",
        "X = df2[feature_columns]\n",
        "y = df2[target_column]\n",
        "\n",
        "# One-hot encode the categorical variables\n",
        "encoder = OneHotEncoder(sparse_output=False)\n",
        "X_encoded = encoder.fit_transform(X)\n",
        "\n",
        "# Split the dataset into a 50% train and 50% test set\n",
        "X_train, X_test, y_train, y_test = train_test_split(X_encoded, y, test_size=0.5,\n",
        "                                                    random_state=56)\n",
        "\n"
      ],
      "metadata": {
        "id": "XHkSXQdJpPhU"
      },
      "execution_count": null,
      "outputs": []
    },
    {
      "cell_type": "code",
      "source": [
        "from sklearn.linear_model import LogisticRegression\n",
        "from sklearn.metrics import confusion_matrix, recall_score, precision_score, f1_score\n",
        "\n",
        "# Initialize the logistic regression model\n",
        "model = LogisticRegression(max_iter=1000)\n",
        "\n",
        "# Fit the model on the training set\n",
        "model.fit(X_train, y_train)\n",
        "\n",
        "# Predict on the test set\n",
        "y_pred = model.predict(X_test)"
      ],
      "metadata": {
        "id": "EJwVoiRoqyyX"
      },
      "execution_count": null,
      "outputs": []
    },
    {
      "cell_type": "code",
      "source": [
        "# Calculate the confusion matrix\n",
        "confusion_matrix = confusion_matrix(y_test, y_pred)\n",
        "confusion_matrix\n",
        "\n",
        "import matplotlib.pyplot as plt\n",
        "import seaborn as sns\n",
        "\n",
        "sns.heatmap(confusion_matrix, annot=True, fmt='d', cmap='Blues',\n",
        "            xticklabels=['Negative', 'Positive'],\n",
        "            yticklabels=['Negative', 'Positive'])\n",
        "\n",
        "# Adding the labels and titles\n",
        "plt.ylabel('True Labels')\n",
        "plt.xlabel('Predicted Labels')\n",
        "plt.title('Confusion Matrix')\n",
        "\n",
        "# Display the confusion matrix\n",
        "plt.show()"
      ],
      "metadata": {
        "colab": {
          "base_uri": "https://localhost:8080/",
          "height": 472
        },
        "id": "ZtvT_v0HytaH",
        "outputId": "71b98098-61a8-4b75-fe3d-6848d244fec2"
      },
      "execution_count": null,
      "outputs": [
        {
          "output_type": "display_data",
          "data": {
            "text/plain": [
              "<Figure size 640x480 with 2 Axes>"
            ],
            "image/png": "[encoded data removed]"
          },
          "metadata": {}
        }
      ]
    },
    {
      "cell_type": "code",
      "source": [
        "# recall, precision, and F1 score\n",
        "recall = recall_score(y_test, y_pred, pos_label='Positive')\n",
        "print(f\"The recall value is {recall:.2f}\")\n",
        "\n",
        "\n",
        "precision = precision_score(y_test, y_pred, pos_label='Positive')\n",
        "print(f\"The precision value is {precision:.2f}\")\n",
        "\n",
        "\n",
        "f1 = f1_score(y_test, y_pred, pos_label='Positive')\n",
        "print(f\"The f1 value is {f1:.2f}\")"
      ],
      "metadata": {
        "colab": {
          "base_uri": "https://localhost:8080/"
        },
        "id": "nBwUWDGKEKji",
        "outputId": "3f1037b9-782d-4f97-c9bf-3bc070c8829c"
      },
      "execution_count": null,
      "outputs": [
        {
          "output_type": "stream",
          "name": "stdout",
          "text": [
            "The recall value is 1.00\n",
            "The precision value is 0.86\n",
            "The f1 value is 0.93\n"
          ]
        }
      ]
    },
    {
      "cell_type": "markdown",
      "source": [
        "The recall value is 1, which shows the model captures all of the positive cases w​hile the precision is 0.86 meaning that there are some false positive cases (predict as positive but incorrect predictions). The f1 value is 0.93, indicating the model perform well and good balance between precision and recall.\n",
        "Regarding the confusion matrix, it seems there could be a class imbalance, thus, can try to adjust the threshold and recalculate the confusion matrix."
      ],
      "metadata": {
        "id": "CEvFZilcr1lp"
      }
    },
    {
      "cell_type": "markdown",
      "source": [
        "### 2.\n",
        "Suppose that the bank decided to make the credit approval process more challenging such that only 15% of the applications would be granted. Calculate the threshold value for the prediction probability, so only 15% of the test set would get their applications approved. Then, update your confusion matrix, recall, precision, and F1 scores.\n"
      ],
      "metadata": {
        "id": "peV28syAOZre"
      }
    },
    {
      "cell_type": "code",
      "source": [
        "# Get the prediction probabilities for the positive class again\n",
        "y_probs = model.predict_proba(X_test)[:, 1]\n",
        "\n",
        "# Since the logistic regression model's classes are in a specific order,\n",
        "# we need to get that order to map probabilities to class labels correctly\n",
        "labels = model.classes_\n",
        "\n",
        "# Now we find the threshold that would give us the top 15% of this distribution\n",
        "threshold = np.percentile(y_probs, 85)\n",
        "\n",
        "# Use this threshold to convert probabilities to a binary outcome\n",
        "y_pred_threshold = (y_probs >= threshold).astype('int')\n",
        "\n",
        "# Map the binary outcomes to the original class labels\n",
        "y_pred_labels = [labels[i] for i in y_pred_threshold]\n"
      ],
      "metadata": {
        "id": "_IKlyt1esLsI"
      },
      "execution_count": null,
      "outputs": []
    },
    {
      "cell_type": "code",
      "source": [
        "# Calculate the confusion matrix, recall, precision, and F1 score using the new predictions\n",
        "conf_matrix = confusion_matrix(y_test, y_pred_labels, labels=labels)\n",
        "sns.heatmap(conf_matrix, annot=True, fmt='d', cmap='Blues',\n",
        "            xticklabels=['Negative', 'Positive'],\n",
        "            yticklabels=['Negative', 'Positive'])\n",
        "\n",
        "# Adding the labels and titles\n",
        "plt.ylabel('True Labels')\n",
        "plt.xlabel('Predicted Labels')\n",
        "plt.title('Confusion Matrix')\n",
        "\n",
        "# Display the confusion matrix\n",
        "plt.show()"
      ],
      "metadata": {
        "colab": {
          "base_uri": "https://localhost:8080/",
          "height": 472
        },
        "id": "TF4WW3edNQWB",
        "outputId": "db14e111-939d-458e-b21e-c10714e1f66d"
      },
      "execution_count": null,
      "outputs": [
        {
          "output_type": "display_data",
          "data": {
            "text/plain": [
              "<Figure size 640x480 with 2 Axes>"
            ],
            "image/png": "[encoded data removed]"
          },
          "metadata": {}
        }
      ]
    },
    {
      "cell_type": "code",
      "source": [
        "recall = recall_score(y_test, y_pred_labels, pos_label='Positive')\n",
        "precision = precision_score(y_test, y_pred_labels, pos_label='Positive')\n",
        "f1_score = f1_score(y_test, y_pred_labels, pos_label='Positive')\n",
        "\n",
        "\n",
        "print(f\"The recall value is {recall:.2f}\")\n",
        "print(f\"The precision value is {precision:.2f}\")\n",
        "print(f\"The f1 value is {f1_score:.2f}\")"
      ],
      "metadata": {
        "colab": {
          "base_uri": "https://localhost:8080/"
        },
        "id": "UN5vqh4P04uK",
        "outputId": "40c9471c-9aa4-4499-9a9a-37c0f65060af"
      },
      "execution_count": null,
      "outputs": [
        {
          "output_type": "stream",
          "name": "stdout",
          "text": [
            "The recall value is 0.16\n",
            "The precision value is 0.89\n",
            "The f1 value is 0.27\n"
          ]
        }
      ]
    },
    {
      "cell_type": "markdown",
      "source": [
        "By setting the threshold to ensure that only the top 15% of applicants are approved, the model now demonstrates a higher precision. This means that the instances it classifies as approved are usually accurate. On the flip side, the model's recall has declined significantly, suggesting that it fails to detect a substantial number of actual approvable cases. Consequently, the F1 score, which harmonizes the precision and recall, has diminished because of the reduced recall. Such a result aligns with the intent to tighten the credit approval criteria, leading the model to predict approvals more cautiously."
      ],
      "metadata": {
        "id": "zOUz5ezTszgB"
      }
    }
  ]
}